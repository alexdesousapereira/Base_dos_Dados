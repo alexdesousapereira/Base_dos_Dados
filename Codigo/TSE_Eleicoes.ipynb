{
 "cells": [
  {
   "cell_type": "markdown",
   "id": "9ce67aa1-eb25-42a2-bb4c-89c7bd38ba39",
   "metadata": {
    "tags": []
   },
   "source": [
    "# Tribunal Superior Eleitoral"
   ]
  },
  {
   "cell_type": "markdown",
   "id": "106abb6a-272f-47d1-9fb1-3f44b259f747",
   "metadata": {},
   "source": [
    "<img src=\"Imagens/TSE.jpg\">"
   ]
  },
  {
   "cell_type": "markdown",
   "id": "85badc19-59db-46a4-b2b9-148b391248ef",
   "metadata": {},
   "source": [
    "# Introdução"
   ]
  },
  {
   "cell_type": "markdown",
   "id": "ec431167-79c6-4bbe-bd82-05775f340278",
   "metadata": {},
   "source": [
    "***\n",
    "Neste artigo, irei demostrar os presidentes que tiveram maior número de votos durante os anos, utilizando dados disponíveis da [Base dos Dados](https://basedosdados.org/) em python. Os dados utilizados correspondem a dados do [Tribunal Eleitoral](https://basedosdados.org/dataset/br-tse-eleicoes) das eleições de 1998 a 2018. \\\n",
    "A partir deste artigo, espera-se que você conheça quais presidentes ganharam as eleições perante os anos eleitorais."
   ]
  },
  {
   "cell_type": "code",
   "execution_count": 3,
   "id": "5742bb1f-6353-4b44-a2ba-d3cea2be6cda",
   "metadata": {},
   "outputs": [
    {
     "name": "stdout",
     "output_type": "stream",
     "text": [
      "Requirement already satisfied: basedosdados in c:\\users\\alexd\\anaconda3\\lib\\site-packages (1.6.1)\n",
      "Requirement already satisfied: tqdm==4.50.2 in c:\\users\\alexd\\anaconda3\\lib\\site-packages (from basedosdados) (4.50.2)\n",
      "Requirement already satisfied: pyaml==20.4.0 in c:\\users\\alexd\\anaconda3\\lib\\site-packages (from basedosdados) (20.4.0)\n",
      "Requirement already satisfied: ckanapi==4.6 in c:\\users\\alexd\\anaconda3\\lib\\site-packages (from basedosdados) (4.6)\n",
      "Requirement already satisfied: pandas-gbq==0.13.2 in c:\\users\\alexd\\anaconda3\\lib\\site-packages (from basedosdados) (0.13.2)\n",
      "Requirement already satisfied: ruamel.yaml==0.17.10 in c:\\users\\alexd\\anaconda3\\lib\\site-packages (from basedosdados) (0.17.10)\n",
      "Requirement already satisfied: pandas==1.2.4 in c:\\users\\alexd\\anaconda3\\lib\\site-packages (from basedosdados) (1.2.4)\n",
      "Requirement already satisfied: tomlkit==0.7.0 in c:\\users\\alexd\\anaconda3\\lib\\site-packages (from basedosdados) (0.7.0)\n",
      "Requirement already satisfied: pyarrow==6.0.0 in c:\\users\\alexd\\anaconda3\\lib\\site-packages (from basedosdados) (6.0.0)\n",
      "Requirement already satisfied: google-cloud-bigquery-storage==1.1.0 in c:\\users\\alexd\\anaconda3\\lib\\site-packages (from basedosdados) (1.1.0)\n",
      "Requirement already satisfied: Jinja2==2.11.2 in c:\\users\\alexd\\anaconda3\\lib\\site-packages (from basedosdados) (2.11.2)\n",
      "Requirement already satisfied: google-cloud-storage==1.42.3 in c:\\users\\alexd\\anaconda3\\lib\\site-packages (from basedosdados) (1.42.3)\n",
      "Requirement already satisfied: google-cloud-bigquery==2.30.1 in c:\\users\\alexd\\anaconda3\\lib\\site-packages (from basedosdados) (2.30.1)\n",
      "Requirement already satisfied: click==8.0.3 in c:\\users\\alexd\\anaconda3\\lib\\site-packages (from basedosdados) (8.0.3)\n",
      "Requirement already satisfied: requests in c:\\users\\alexd\\anaconda3\\lib\\site-packages (from ckanapi==4.6->basedosdados) (2.26.0)\n",
      "Requirement already satisfied: docopt in c:\\users\\alexd\\anaconda3\\lib\\site-packages (from ckanapi==4.6->basedosdados) (0.6.2)\n",
      "Requirement already satisfied: python-slugify>=1.0 in c:\\users\\alexd\\anaconda3\\lib\\site-packages (from ckanapi==4.6->basedosdados) (5.0.2)\n",
      "Requirement already satisfied: six<2.0,>=1.9 in c:\\users\\alexd\\anaconda3\\lib\\site-packages (from ckanapi==4.6->basedosdados) (1.16.0)\n",
      "Requirement already satisfied: setuptools in c:\\users\\alexd\\anaconda3\\lib\\site-packages (from ckanapi==4.6->basedosdados) (58.0.4)\n",
      "Requirement already satisfied: colorama in c:\\users\\alexd\\anaconda3\\lib\\site-packages (from click==8.0.3->basedosdados) (0.4.4)\n",
      "Requirement already satisfied: grpcio<2.0dev,>=1.38.1 in c:\\users\\alexd\\anaconda3\\lib\\site-packages (from google-cloud-bigquery==2.30.1->basedosdados) (1.44.0)\n",
      "Requirement already satisfied: google-resumable-media<3.0dev,>=0.6.0 in c:\\users\\alexd\\anaconda3\\lib\\site-packages (from google-cloud-bigquery==2.30.1->basedosdados) (2.2.1)\n",
      "Requirement already satisfied: proto-plus>=1.10.0 in c:\\users\\alexd\\anaconda3\\lib\\site-packages (from google-cloud-bigquery==2.30.1->basedosdados) (1.20.3)\n",
      "Requirement already satisfied: protobuf>=3.12.0 in c:\\users\\alexd\\anaconda3\\lib\\site-packages (from google-cloud-bigquery==2.30.1->basedosdados) (3.19.4)\n",
      "Requirement already satisfied: packaging>=14.3 in c:\\users\\alexd\\anaconda3\\lib\\site-packages (from google-cloud-bigquery==2.30.1->basedosdados) (21.0)\n",
      "Requirement already satisfied: python-dateutil<3.0dev,>=2.7.2 in c:\\users\\alexd\\anaconda3\\lib\\site-packages (from google-cloud-bigquery==2.30.1->basedosdados) (2.8.0)\n",
      "Requirement already satisfied: google-cloud-core<3.0.0dev,>=1.4.1 in c:\\users\\alexd\\anaconda3\\lib\\site-packages (from google-cloud-bigquery==2.30.1->basedosdados) (2.2.2)\n",
      "Requirement already satisfied: google-api-core[grpc]<3.0.0dev,>=1.29.0 in c:\\users\\alexd\\anaconda3\\lib\\site-packages (from google-cloud-bigquery==2.30.1->basedosdados) (1.31.5)\n",
      "Requirement already satisfied: google-auth<3.0dev,>=1.25.0 in c:\\users\\alexd\\anaconda3\\lib\\site-packages (from google-cloud-storage==1.42.3->basedosdados) (1.35.0)\n",
      "Requirement already satisfied: MarkupSafe>=0.23 in c:\\users\\alexd\\anaconda3\\lib\\site-packages (from Jinja2==2.11.2->basedosdados) (1.1.1)\n",
      "Requirement already satisfied: numpy>=1.16.5 in c:\\users\\alexd\\anaconda3\\lib\\site-packages (from pandas==1.2.4->basedosdados) (1.20.3)\n",
      "Requirement already satisfied: pytz>=2017.3 in c:\\users\\alexd\\anaconda3\\lib\\site-packages (from pandas==1.2.4->basedosdados) (2021.3)\n",
      "Requirement already satisfied: pydata-google-auth in c:\\users\\alexd\\anaconda3\\lib\\site-packages (from pandas-gbq==0.13.2->basedosdados) (1.3.0)\n",
      "Requirement already satisfied: google-auth-oauthlib in c:\\users\\alexd\\anaconda3\\lib\\site-packages (from pandas-gbq==0.13.2->basedosdados) (0.4.6)\n",
      "Requirement already satisfied: PyYAML in c:\\users\\alexd\\anaconda3\\lib\\site-packages (from pyaml==20.4.0->basedosdados) (6.0)\n",
      "Requirement already satisfied: ruamel.yaml.clib>=0.1.2 in c:\\users\\alexd\\anaconda3\\lib\\site-packages (from ruamel.yaml==0.17.10->basedosdados) (0.2.6)\n",
      "Requirement already satisfied: googleapis-common-protos<2.0dev,>=1.6.0 in c:\\users\\alexd\\anaconda3\\lib\\site-packages (from google-api-core[grpc]<3.0.0dev,>=1.29.0->google-cloud-bigquery==2.30.1->basedosdados) (1.54.0)\n",
      "Requirement already satisfied: pyasn1-modules>=0.2.1 in c:\\users\\alexd\\anaconda3\\lib\\site-packages (from google-auth<3.0dev,>=1.25.0->google-cloud-storage==1.42.3->basedosdados) (0.2.8)\n",
      "Requirement already satisfied: cachetools<5.0,>=2.0.0 in c:\\users\\alexd\\anaconda3\\lib\\site-packages (from google-auth<3.0dev,>=1.25.0->google-cloud-storage==1.42.3->basedosdados) (4.2.4)\n",
      "Requirement already satisfied: rsa<5,>=3.1.4 in c:\\users\\alexd\\anaconda3\\lib\\site-packages (from google-auth<3.0dev,>=1.25.0->google-cloud-storage==1.42.3->basedosdados) (4.8)\n",
      "Requirement already satisfied: google-crc32c<2.0dev,>=1.0 in c:\\users\\alexd\\anaconda3\\lib\\site-packages (from google-resumable-media<3.0dev,>=0.6.0->google-cloud-bigquery==2.30.1->basedosdados) (1.3.0)\n",
      "Requirement already satisfied: pyparsing>=2.0.2 in c:\\users\\alexd\\anaconda3\\lib\\site-packages (from packaging>=14.3->google-cloud-bigquery==2.30.1->basedosdados) (3.0.4)\n",
      "Requirement already satisfied: pyasn1<0.5.0,>=0.4.6 in c:\\users\\alexd\\anaconda3\\lib\\site-packages (from pyasn1-modules>=0.2.1->google-auth<3.0dev,>=1.25.0->google-cloud-storage==1.42.3->basedosdados) (0.4.8)\n",
      "Requirement already satisfied: text-unidecode>=1.3 in c:\\users\\alexd\\anaconda3\\lib\\site-packages (from python-slugify>=1.0->ckanapi==4.6->basedosdados) (1.3)\n",
      "Requirement already satisfied: charset-normalizer~=2.0.0 in c:\\users\\alexd\\anaconda3\\lib\\site-packages (from requests->ckanapi==4.6->basedosdados) (2.0.4)\n",
      "Requirement already satisfied: certifi>=2017.4.17 in c:\\users\\alexd\\anaconda3\\lib\\site-packages (from requests->ckanapi==4.6->basedosdados) (2021.10.8)\n",
      "Requirement already satisfied: idna<4,>=2.5 in c:\\users\\alexd\\anaconda3\\lib\\site-packages (from requests->ckanapi==4.6->basedosdados) (3.2)\n",
      "Requirement already satisfied: urllib3<1.27,>=1.21.1 in c:\\users\\alexd\\anaconda3\\lib\\site-packages (from requests->ckanapi==4.6->basedosdados) (1.26.7)\n",
      "Requirement already satisfied: requests-oauthlib>=0.7.0 in c:\\users\\alexd\\anaconda3\\lib\\site-packages (from google-auth-oauthlib->pandas-gbq==0.13.2->basedosdados) (1.3.1)\n",
      "Requirement already satisfied: oauthlib>=3.0.0 in c:\\users\\alexd\\anaconda3\\lib\\site-packages (from requests-oauthlib>=0.7.0->google-auth-oauthlib->pandas-gbq==0.13.2->basedosdados) (3.2.0)\n"
     ]
    }
   ],
   "source": [
    "# instalando pacote da base dos dados\n",
    "!pip install basedosdados "
   ]
  },
  {
   "cell_type": "markdown",
   "id": "0fecc450-3cb1-46f2-8791-fd16ac351338",
   "metadata": {},
   "source": [
    "Com o pacote instalado iremos carregar todos os pacotes que utilizaremos em nossa análise."
   ]
  },
  {
   "cell_type": "code",
   "execution_count": 13,
   "id": "84043c69-008d-4808-a020-f2f69cccaf2d",
   "metadata": {},
   "outputs": [],
   "source": [
    "# Importando Pacotes\n",
    "import basedosdados as bd # importa dados da base dos dados\n",
    "import pandas as pd # manipulação de dados\n",
    "import seaborn as sns # criação de gráficos\n",
    "import matplotlib.pyplot as plt # criações de gráficos\n",
    "from matplotlib.pylab import rcParams # tamanho padrão\n",
    "rcParams['figure.figsize'] = 15, 6"
   ]
  },
  {
   "cell_type": "markdown",
   "id": "2ca742bc-be62-4543-959e-9330240778f7",
   "metadata": {},
   "source": [
    "Feito a importação dos pacotes, agora iremos trazer os dados referentes aos candidatos perante os anos. Para isso, utilizaremos da função `read_sql` que permita que os dados possam ser trazidos via uma query em sql. Contudo, vamos adcionar a nossa query em uma várivel."
   ]
  },
  {
   "cell_type": "code",
   "execution_count": 15,
   "id": "e8e3a757-fa3c-4b59-a314-8a387eb31023",
   "metadata": {},
   "outputs": [],
   "source": [
    "# Criando variável com a query em sql\n",
    "query = \"\"\"\n",
    "SELECT \n",
    "  R.ano,\n",
    "  R.turno,\n",
    "  C.nome_urna as Candidatos,\n",
    "  R.votos,\n",
    "FROM `basedosdados.br_tse_eleicoes.resultados_candidato` R\n",
    "LEFT OUTER JOIN `basedosdados.br_tse_eleicoes.candidatos` C\n",
    "  ON  R.ano = C.ano\n",
    "  AND R.cargo = C.cargo \n",
    "  AND R.numero_candidato   = C.numero  \n",
    "WHERE R.cargo ='presidente'\n",
    "  AND C.cargo = 'presidente'\n",
    "  AND C.situacao = 'deferido'\n",
    "ORDER BY R.ano, R.votos DESC\n",
    "\"\"\""
   ]
  },
  {
   "cell_type": "markdown",
   "id": "9fcf2c45-e769-4157-b950-42339302773c",
   "metadata": {},
   "source": [
    "Com a query montada, agora podemos carregar os dados via o comando `read_sql`."
   ]
  },
  {
   "cell_type": "code",
   "execution_count": 16,
   "id": "55a358f0-2101-4c93-97d5-e41f5eea8f5e",
   "metadata": {},
   "outputs": [
    {
     "name": "stderr",
     "output_type": "stream",
     "text": [
      "Downloading: 100%|██████████| 68/68 [00:00<00:00, 235.35rows/s]\n"
     ]
    }
   ],
   "source": [
    "# Carregando os dados\n",
    "df = bd.read_sql(query, billing_project_id='carbide-legend-331517')"
   ]
  },
  {
   "cell_type": "markdown",
   "id": "dc52ffff-4166-47bc-aadf-06384b641add",
   "metadata": {},
   "source": [
    "Note que para o carregamento dos dados, tivemos que utilizar um `billing_project_id`. Para a obtenção deste código faz-se necessário um [projeto no google cloud](https://basedosdados.github.io/mais/access_data_bq/#primeiros-passos), conforme demonstra a Base dos Dados. Com os dados carregados, agora iremos verificar os dados disponíveis."
   ]
  },
  {
   "cell_type": "code",
   "execution_count": 17,
   "id": "582816a9-8d2a-4955-9508-2eaee1185d70",
   "metadata": {},
   "outputs": [
    {
     "data": {
      "text/html": [
       "<div>\n",
       "<style scoped>\n",
       "    .dataframe tbody tr th:only-of-type {\n",
       "        vertical-align: middle;\n",
       "    }\n",
       "\n",
       "    .dataframe tbody tr th {\n",
       "        vertical-align: top;\n",
       "    }\n",
       "\n",
       "    .dataframe thead th {\n",
       "        text-align: right;\n",
       "    }\n",
       "</style>\n",
       "<table border=\"1\" class=\"dataframe\">\n",
       "  <thead>\n",
       "    <tr style=\"text-align: right;\">\n",
       "      <th></th>\n",
       "      <th>ano</th>\n",
       "      <th>turno</th>\n",
       "      <th>Candidatos</th>\n",
       "      <th>votos</th>\n",
       "    </tr>\n",
       "  </thead>\n",
       "  <tbody>\n",
       "    <tr>\n",
       "      <th>0</th>\n",
       "      <td>1998</td>\n",
       "      <td>1</td>\n",
       "      <td>Fernando Henrique</td>\n",
       "      <td>35922534</td>\n",
       "    </tr>\n",
       "    <tr>\n",
       "      <th>1</th>\n",
       "      <td>1998</td>\n",
       "      <td>1</td>\n",
       "      <td>Lula</td>\n",
       "      <td>21470326</td>\n",
       "    </tr>\n",
       "    <tr>\n",
       "      <th>2</th>\n",
       "      <td>1998</td>\n",
       "      <td>1</td>\n",
       "      <td>Ciro Gomes</td>\n",
       "      <td>7424780</td>\n",
       "    </tr>\n",
       "    <tr>\n",
       "      <th>3</th>\n",
       "      <td>1998</td>\n",
       "      <td>1</td>\n",
       "      <td>Enéas</td>\n",
       "      <td>1446782</td>\n",
       "    </tr>\n",
       "    <tr>\n",
       "      <th>4</th>\n",
       "      <td>1998</td>\n",
       "      <td>1</td>\n",
       "      <td>Brigadeiro Ivan Frota</td>\n",
       "      <td>251275</td>\n",
       "    </tr>\n",
       "  </tbody>\n",
       "</table>\n",
       "</div>"
      ],
      "text/plain": [
       "    ano  turno             Candidatos     votos\n",
       "0  1998      1      Fernando Henrique  35922534\n",
       "1  1998      1                   Lula  21470326\n",
       "2  1998      1             Ciro Gomes   7424780\n",
       "3  1998      1                  Enéas   1446782\n",
       "4  1998      1  Brigadeiro Ivan Frota    251275"
      ]
     },
     "execution_count": 17,
     "metadata": {},
     "output_type": "execute_result"
    }
   ],
   "source": [
    "# Carregando as 5 primeiras linhas dos dados.\n",
    "df.head()"
   ]
  },
  {
   "cell_type": "code",
   "execution_count": 18,
   "id": "579f4b9c-75d5-4eb0-a68f-544ac22c06cc",
   "metadata": {},
   "outputs": [
    {
     "name": "stdout",
     "output_type": "stream",
     "text": [
      "Número de linhas =  68\n",
      "Número de colunas =  4\n"
     ]
    }
   ],
   "source": [
    "# Número de linhas x colunas\n",
    "linhas = df.shape[0] # linhas\n",
    "colunas = df.shape[1]\n",
    "print('Número de linhas = ',linhas)\n",
    "print('Número de colunas = ', colunas)"
   ]
  },
  {
   "cell_type": "code",
   "execution_count": 19,
   "id": "1bc9a202-1384-4287-af18-cfe5bd548c49",
   "metadata": {},
   "outputs": [
    {
     "data": {
      "text/plain": [
       "ano   turno  Candidatos             votos   \n",
       "1998  1      Brigadeiro Ivan Frota  251275      1\n",
       "2014  1      Eymael                 61250       1\n",
       "             Rui Costa Pimenta      12324       1\n",
       "             Pastor Everaldo        780513      1\n",
       "             Mauro Iasi             47845       1\n",
       "                                               ..\n",
       "2006  2      Lula                   58295042    1\n",
       "2010  1      Dilma                  47651434    1\n",
       "             Eymael                 89350       1\n",
       "             Ivan Pinheiro          39136       1\n",
       "2018  2      Jair Bolsonaro         57797847    1\n",
       "Length: 68, dtype: int64"
      ]
     },
     "execution_count": 19,
     "metadata": {},
     "output_type": "execute_result"
    }
   ],
   "source": [
    "# Verificando presença de valores duplicados\n",
    "df.value_counts()"
   ]
  },
  {
   "cell_type": "markdown",
   "id": "2971c744-a6fc-4be1-8d7d-88d94cbb3bc3",
   "metadata": {},
   "source": [
    "Observe que dentro de nosso dataset temos 4 variáveis (Ano, Nome, Turno e Votos). Com os nossos dados corretamente tratados, iremos criar nossa visualização. Contudo, vamos ver quais anos tivemos eleição presencial de acordo com nossos dados."
   ]
  },
  {
   "cell_type": "code",
   "execution_count": 21,
   "id": "04556579-2d26-40be-bda8-086caa7f71e1",
   "metadata": {},
   "outputs": [
    {
     "name": "stdout",
     "output_type": "stream",
     "text": [
      "[1998 2002 2006 2010 2014 2018]\n"
     ]
    }
   ],
   "source": [
    "Eleicoes = df['ano'].unique()\n",
    "print(Eleicoes)"
   ]
  },
  {
   "cell_type": "markdown",
   "id": "a1642135-c75b-4d71-b0ce-8880f9f7435f",
   "metadata": {},
   "source": [
    "Agora que temos os anos com as eleções presidenciais, iremos criar uma função que traz um gráfico de barras com os top eleitores de acordo com o ano selecionado."
   ]
  },
  {
   "cell_type": "code",
   "execution_count": 36,
   "id": "d75249ab-7250-4be8-920e-6a024ab4f6ef",
   "metadata": {},
   "outputs": [],
   "source": [
    "def top_candidados_ano(ano):\n",
    "    if ano in Eleicoes:\n",
    "        top = df.query('ano == %s' % ano) # AN\n",
    "        turno01 = top.query('turno == 1')\n",
    "        turno01['Percentual_Votos'] = (turno01.votos/sum(turno01.votos) * 100).round(2)\n",
    "        top3 = turno01.sort_values(['votos'], ascending=False)[:3]\n",
    "        turno02 = top.query('turno == 2')\n",
    "        #criando uma figure, axes, alterando tamanho\n",
    "        fig, ax = plt.subplots()# criando o gráfico de barras\n",
    "        grafico = sns.barplot(x=top3.Percentual_Votos, y=top3.Candidatos, ax=ax, data=top3,     \n",
    "                    palette='RdPu')#adicionando título\n",
    "        ax.set_title(\"Percentual de Votos %s\" % ano, fontdict={'fontsize':15})#mudando nome e tamanho do label x\n",
    "        ax.set_xlabel('% Votos', fontdict={'fontsize':14}) # mudando o tamanho label y\n",
    "        ax.set_ylabel('Candidatos', fontdict={'fontsize':14})# udando tamanho dos labels dos ticks\n",
    "        ax.tick_params(labelsize=14) # minimiza o espaço da figura\n",
    "        plt.xlim(0,100) # Tamanho do eixo\n",
    "        fig.tight_layout()\n",
    "        \n",
    "        if turno02.shape[0] == 2:\n",
    "            id = turno02['votos'].idxmax()\n",
    "            vencedor = turno02.Candidatos[id]\n",
    "            turno02['Percentual_Votos'] = (turno02.votos/sum(turno02.votos) * 100).round(2)\n",
    "            percentual = turno02.Percentual_Votos[id]\n",
    "            return print(\"O(a) Vencedor(a) foi \", vencedor,\" com \", percentual,\"% de votos no segundo turno.\")\n",
    "        else:\n",
    "            id = turno01['votos'].idxmax()\n",
    "            vencedor = turno01.Candidatos[id]\n",
    "            percentual = turno01.Percentual_Votos[id]\n",
    "            return print(\"O(a) Vencedor(a) foi \", vencedor,\" com \", percentual,\"% de votos no primeiro turno.\")  \n",
    "    else:\n",
    "        return print(\"Neste ano não tivemos eleição presidencial\")"
   ]
  },
  {
   "cell_type": "markdown",
   "id": "9a950806-7cf6-4ed9-aba3-cb499d48e32e",
   "metadata": {},
   "source": [
    "Com a função criada, agora iremos criar nosso gráfico de acordo com o ano selecionado:"
   ]
  },
  {
   "cell_type": "code",
   "execution_count": 39,
   "id": "d0ebb741-2176-4130-8a1e-50c6c728374e",
   "metadata": {},
   "outputs": [
    {
     "name": "stdout",
     "output_type": "stream",
     "text": [
      "O(a) Vencedor(a) foi  Fernando Henrique  com  52.93 % de votos no primeiro turno.\n"
     ]
    },
    {
     "data": {
      "image/png": "[encoded data removed]",
      "text/plain": [
       "<Figure size 1080x432 with 1 Axes>"
      ]
     },
     "metadata": {
      "needs_background": "light"
     },
     "output_type": "display_data"
    }
   ],
   "source": [
    "# Função Retorna gráfico com top 3 candidatos de acordo ano selecionado.\n",
    "top_candidados_ano(1998)"
   ]
  }
 ],
 "metadata": {
  "kernelspec": {
   "display_name": "Python 3 (ipykernel)",
   "language": "python",
   "name": "python3"
  },
  "language_info": {
   "codemirror_mode": {
    "name": "ipython",
    "version": 3
   },
   "file_extension": ".py",
   "mimetype": "text/x-python",
   "name": "python",
   "nbconvert_exporter": "python",
   "pygments_lexer": "ipython3",
   "version": "3.9.7"
  }
 },
 "nbformat": 4,
 "nbformat_minor": 5
}
