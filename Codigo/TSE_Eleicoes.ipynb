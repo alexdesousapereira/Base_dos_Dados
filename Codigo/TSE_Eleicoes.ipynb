{
 "cells": [
  {
   "cell_type": "markdown",
   "id": "106abb6a-272f-47d1-9fb1-3f44b259f747",
   "metadata": {},
   "source": [
    "<img src=\"Imagens/TSE.jpg\">"
   ]
  },
  {
   "cell_type": "markdown",
   "id": "85badc19-59db-46a4-b2b9-148b391248ef",
   "metadata": {},
   "source": [
    "# Introdução"
   ]
  },
  {
   "cell_type": "markdown",
   "id": "ec431167-79c6-4bbe-bd82-05775f340278",
   "metadata": {},
   "source": [
    "***\n",
    "Neste artigo, irei demostrar os presidentes que tiveram maior número de votos durante os anos, utilizando dados disponíveis da [Base dos Dados](https://basedosdados.org/) em python.\n",
    "\n",
    "Os dados Utilizados correspondem a dados do [Tribunal Eleitoral](https://basedosdados.org/dataset/br-tse-eleicoes) das eleições de 1998 a 2020. \n",
    "A partir deste artigo, espera-se que você conheça quais presidentes ganharam e quase ganharam as eleições perante os anos eleitorais."
   ]
  },
  {
   "cell_type": "markdown",
   "id": "aa9e325d-0cd7-403b-a9d0-49280667065d",
   "metadata": {},
   "source": [
    "## Importando Pacotes\n",
    "***\n",
    "O primeiro passo, será a importação dos pacotes utilizados para que possamos fazer as nossas análises. Desta forma, instalaremos os pacotes que não padrões do jupyter notebook."
   ]
  },
  {
   "cell_type": "code",
   "execution_count": 4,
   "id": "5742bb1f-6353-4b44-a2ba-d3cea2be6cda",
   "metadata": {},
   "outputs": [
    {
     "name": "stdout",
     "output_type": "stream",
     "text": [
      "Requirement already satisfied: basedosdados in c:\\users\\alexd\\anaconda3\\lib\\site-packages (1.6.1)\n",
      "Requirement already satisfied: Jinja2==2.11.2 in c:\\users\\alexd\\anaconda3\\lib\\site-packages (from basedosdados) (2.11.2)\n",
      "Requirement already satisfied: google-cloud-bigquery-storage==1.1.0 in c:\\users\\alexd\\anaconda3\\lib\\site-packages (from basedosdados) (1.1.0)\n",
      "Requirement already satisfied: pyarrow==6.0.0 in c:\\users\\alexd\\anaconda3\\lib\\site-packages (from basedosdados) (6.0.0)\n",
      "Requirement already satisfied: google-cloud-storage==1.42.3 in c:\\users\\alexd\\anaconda3\\lib\\site-packages (from basedosdados) (1.42.3)\n",
      "Requirement already satisfied: pandas==1.2.4 in c:\\users\\alexd\\anaconda3\\lib\\site-packages (from basedosdados) (1.2.4)\n",
      "Requirement already satisfied: ruamel.yaml==0.17.10 in c:\\users\\alexd\\anaconda3\\lib\\site-packages (from basedosdados) (0.17.10)\n",
      "Requirement already satisfied: click==8.0.3 in c:\\users\\alexd\\anaconda3\\lib\\site-packages (from basedosdados) (8.0.3)\n",
      "Requirement already satisfied: tomlkit==0.7.0 in c:\\users\\alexd\\anaconda3\\lib\\site-packages (from basedosdados) (0.7.0)\n",
      "Requirement already satisfied: ckanapi==4.6 in c:\\users\\alexd\\anaconda3\\lib\\site-packages (from basedosdados) (4.6)\n",
      "Requirement already satisfied: google-cloud-bigquery==2.30.1 in c:\\users\\alexd\\anaconda3\\lib\\site-packages (from basedosdados) (2.30.1)\n",
      "Requirement already satisfied: tqdm==4.50.2 in c:\\users\\alexd\\anaconda3\\lib\\site-packages (from basedosdados) (4.50.2)\n",
      "Requirement already satisfied: pandas-gbq==0.13.2 in c:\\users\\alexd\\anaconda3\\lib\\site-packages (from basedosdados) (0.13.2)\n",
      "Requirement already satisfied: pyaml==20.4.0 in c:\\users\\alexd\\anaconda3\\lib\\site-packages (from basedosdados) (20.4.0)\n",
      "Requirement already satisfied: docopt in c:\\users\\alexd\\anaconda3\\lib\\site-packages (from ckanapi==4.6->basedosdados) (0.6.2)\n",
      "Requirement already satisfied: python-slugify>=1.0 in c:\\users\\alexd\\anaconda3\\lib\\site-packages (from ckanapi==4.6->basedosdados) (5.0.2)\n",
      "Requirement already satisfied: six<2.0,>=1.9 in c:\\users\\alexd\\anaconda3\\lib\\site-packages (from ckanapi==4.6->basedosdados) (1.16.0)\n",
      "Requirement already satisfied: setuptools in c:\\users\\alexd\\anaconda3\\lib\\site-packages (from ckanapi==4.6->basedosdados) (58.0.4)\n",
      "Requirement already satisfied: requests in c:\\users\\alexd\\anaconda3\\lib\\site-packages (from ckanapi==4.6->basedosdados) (2.26.0)\n",
      "Requirement already satisfied: colorama in c:\\users\\alexd\\anaconda3\\lib\\site-packages (from click==8.0.3->basedosdados) (0.4.4)\n",
      "Requirement already satisfied: protobuf>=3.12.0 in c:\\users\\alexd\\anaconda3\\lib\\site-packages (from google-cloud-bigquery==2.30.1->basedosdados) (3.19.4)\n",
      "Requirement already satisfied: google-api-core[grpc]<3.0.0dev,>=1.29.0 in c:\\users\\alexd\\anaconda3\\lib\\site-packages (from google-cloud-bigquery==2.30.1->basedosdados) (1.31.5)\n",
      "Requirement already satisfied: grpcio<2.0dev,>=1.38.1 in c:\\users\\alexd\\anaconda3\\lib\\site-packages (from google-cloud-bigquery==2.30.1->basedosdados) (1.44.0)\n",
      "Requirement already satisfied: google-resumable-media<3.0dev,>=0.6.0 in c:\\users\\alexd\\anaconda3\\lib\\site-packages (from google-cloud-bigquery==2.30.1->basedosdados) (2.2.1)\n",
      "Requirement already satisfied: proto-plus>=1.10.0 in c:\\users\\alexd\\anaconda3\\lib\\site-packages (from google-cloud-bigquery==2.30.1->basedosdados) (1.20.3)\n",
      "Requirement already satisfied: packaging>=14.3 in c:\\users\\alexd\\anaconda3\\lib\\site-packages (from google-cloud-bigquery==2.30.1->basedosdados) (21.0)\n",
      "Requirement already satisfied: python-dateutil<3.0dev,>=2.7.2 in c:\\users\\alexd\\anaconda3\\lib\\site-packages (from google-cloud-bigquery==2.30.1->basedosdados) (2.8.2)\n",
      "Requirement already satisfied: google-cloud-core<3.0.0dev,>=1.4.1 in c:\\users\\alexd\\anaconda3\\lib\\site-packages (from google-cloud-bigquery==2.30.1->basedosdados) (2.2.2)\n",
      "Requirement already satisfied: google-auth<3.0dev,>=1.25.0 in c:\\users\\alexd\\anaconda3\\lib\\site-packages (from google-cloud-storage==1.42.3->basedosdados) (1.35.0)\n",
      "Requirement already satisfied: MarkupSafe>=0.23 in c:\\users\\alexd\\anaconda3\\lib\\site-packages (from Jinja2==2.11.2->basedosdados) (1.1.1)\n",
      "Requirement already satisfied: pytz>=2017.3 in c:\\users\\alexd\\anaconda3\\lib\\site-packages (from pandas==1.2.4->basedosdados) (2021.3)\n",
      "Requirement already satisfied: numpy>=1.16.5 in c:\\users\\alexd\\anaconda3\\lib\\site-packages (from pandas==1.2.4->basedosdados) (1.20.3)\n",
      "Requirement already satisfied: pydata-google-auth in c:\\users\\alexd\\anaconda3\\lib\\site-packages (from pandas-gbq==0.13.2->basedosdados) (1.3.0)\n",
      "Requirement already satisfied: google-auth-oauthlib in c:\\users\\alexd\\anaconda3\\lib\\site-packages (from pandas-gbq==0.13.2->basedosdados) (0.4.6)\n",
      "Requirement already satisfied: PyYAML in c:\\users\\alexd\\anaconda3\\lib\\site-packages (from pyaml==20.4.0->basedosdados) (6.0)\n",
      "Requirement already satisfied: ruamel.yaml.clib>=0.1.2 in c:\\users\\alexd\\anaconda3\\lib\\site-packages (from ruamel.yaml==0.17.10->basedosdados) (0.2.6)\n",
      "Requirement already satisfied: googleapis-common-protos<2.0dev,>=1.6.0 in c:\\users\\alexd\\anaconda3\\lib\\site-packages (from google-api-core[grpc]<3.0.0dev,>=1.29.0->google-cloud-bigquery==2.30.1->basedosdados) (1.54.0)\n",
      "Requirement already satisfied: cachetools<5.0,>=2.0.0 in c:\\users\\alexd\\anaconda3\\lib\\site-packages (from google-auth<3.0dev,>=1.25.0->google-cloud-storage==1.42.3->basedosdados) (4.2.4)\n",
      "Requirement already satisfied: pyasn1-modules>=0.2.1 in c:\\users\\alexd\\anaconda3\\lib\\site-packages (from google-auth<3.0dev,>=1.25.0->google-cloud-storage==1.42.3->basedosdados) (0.2.8)\n",
      "Requirement already satisfied: rsa<5,>=3.1.4 in c:\\users\\alexd\\anaconda3\\lib\\site-packages (from google-auth<3.0dev,>=1.25.0->google-cloud-storage==1.42.3->basedosdados) (4.8)\n",
      "Requirement already satisfied: google-crc32c<2.0dev,>=1.0 in c:\\users\\alexd\\anaconda3\\lib\\site-packages (from google-resumable-media<3.0dev,>=0.6.0->google-cloud-bigquery==2.30.1->basedosdados) (1.3.0)\n",
      "Requirement already satisfied: pyparsing>=2.0.2 in c:\\users\\alexd\\anaconda3\\lib\\site-packages (from packaging>=14.3->google-cloud-bigquery==2.30.1->basedosdados) (3.0.4)\n",
      "Requirement already satisfied: pyasn1<0.5.0,>=0.4.6 in c:\\users\\alexd\\anaconda3\\lib\\site-packages (from pyasn1-modules>=0.2.1->google-auth<3.0dev,>=1.25.0->google-cloud-storage==1.42.3->basedosdados) (0.4.8)\n",
      "Requirement already satisfied: text-unidecode>=1.3 in c:\\users\\alexd\\anaconda3\\lib\\site-packages (from python-slugify>=1.0->ckanapi==4.6->basedosdados) (1.3)\n",
      "Requirement already satisfied: idna<4,>=2.5 in c:\\users\\alexd\\anaconda3\\lib\\site-packages (from requests->ckanapi==4.6->basedosdados) (3.2)\n",
      "Requirement already satisfied: urllib3<1.27,>=1.21.1 in c:\\users\\alexd\\anaconda3\\lib\\site-packages (from requests->ckanapi==4.6->basedosdados) (1.26.7)\n",
      "Requirement already satisfied: charset-normalizer~=2.0.0 in c:\\users\\alexd\\anaconda3\\lib\\site-packages (from requests->ckanapi==4.6->basedosdados) (2.0.4)\n",
      "Requirement already satisfied: certifi>=2017.4.17 in c:\\users\\alexd\\anaconda3\\lib\\site-packages (from requests->ckanapi==4.6->basedosdados) (2021.10.8)\n",
      "Requirement already satisfied: requests-oauthlib>=0.7.0 in c:\\users\\alexd\\anaconda3\\lib\\site-packages (from google-auth-oauthlib->pandas-gbq==0.13.2->basedosdados) (1.3.1)\n",
      "Requirement already satisfied: oauthlib>=3.0.0 in c:\\users\\alexd\\anaconda3\\lib\\site-packages (from requests-oauthlib>=0.7.0->google-auth-oauthlib->pandas-gbq==0.13.2->basedosdados) (3.2.0)\n"
     ]
    }
   ],
   "source": [
    "# instalando pacote da base dos dados\n",
    "!pip install basedosdados "
   ]
  },
  {
   "cell_type": "markdown",
   "id": "0fecc450-3cb1-46f2-8791-fd16ac351338",
   "metadata": {},
   "source": [
    "Com o pacote instalado iremos carregar todos os pacotes que utilizaremos em nossa análise."
   ]
  },
  {
   "cell_type": "code",
   "execution_count": 5,
   "id": "84043c69-008d-4808-a020-f2f69cccaf2d",
   "metadata": {},
   "outputs": [],
   "source": [
    "# Importando Pacotes\n",
    "import basedosdados as bd # importa dados da base dos dados\n",
    "import pandas as pd # manipulação de dados\n",
    "import seaborn as sns # criação de gráficos\n",
    "import matplotlib as plt # criações de gráficos"
   ]
  },
  {
   "cell_type": "markdown",
   "id": "2ca742bc-be62-4543-959e-9330240778f7",
   "metadata": {},
   "source": [
    "Feito a importação dos pacotes, agora iremos trazer os dados referentes aos candidatos perante os anos. Para isso, utilizaremos da função `read_sql` que permita que os dados possam ser trazidos via uma query em sql. Contudo, vamos adcionar a nossa query em uma várivel."
   ]
  },
  {
   "cell_type": "code",
   "execution_count": 9,
   "id": "e8e3a757-fa3c-4b59-a314-8a387eb31023",
   "metadata": {},
   "outputs": [],
   "source": [
    "# Criando variável com a query em sql\n",
    "query = \"\"\"\n",
    "Select \n",
    "    R.Ano, \n",
    "    C.nome, \n",
    "    R.turno,\n",
    "    R.votos\n",
    "from `basedosdados.br_tse_eleicoes.candidatos`as C\n",
    "INNER JOIN `basedosdados.br_tse_eleicoes.resultados_candidato` as R\n",
    "on  C.id_candidato_bd = R.id_candidato_bd\n",
    "where C.cargo = \"presidente\"\n",
    "Order by R.ano asc;\n",
    "\"\"\""
   ]
  },
  {
   "cell_type": "markdown",
   "id": "9fcf2c45-e769-4157-b950-42339302773c",
   "metadata": {},
   "source": [
    "Com a query montada, agora podemos carregar os dados via o comando `read_sql`."
   ]
  },
  {
   "cell_type": "code",
   "execution_count": 13,
   "id": "55a358f0-2101-4c93-97d5-e41f5eea8f5e",
   "metadata": {},
   "outputs": [
    {
     "name": "stderr",
     "output_type": "stream",
     "text": [
      "Downloading: 100%|██████████| 268/268 [00:00<00:00, 499.42rows/s]\n"
     ]
    }
   ],
   "source": [
    "# Carregando os dados\n",
    "df = bd.read_sql(query, billing_project_id='carbide-legend-331517')"
   ]
  },
  {
   "cell_type": "markdown",
   "id": "dc52ffff-4166-47bc-aadf-06384b641add",
   "metadata": {},
   "source": [
    "Note que para o carregamento dos dados, tivemos que utilizar um `billing_project_id`. Para a obtenção deste código faz-se necessário um [projeto no google cloud](https://basedosdados.github.io/mais/access_data_bq/#primeiros-passos), conforme demonstra a Base dos Dados."
   ]
  },
  {
   "cell_type": "code",
   "execution_count": 14,
   "id": "582816a9-8d2a-4955-9508-2eaee1185d70",
   "metadata": {},
   "outputs": [
    {
     "data": {
      "text/html": [
       "<div>\n",
       "<style scoped>\n",
       "    .dataframe tbody tr th:only-of-type {\n",
       "        vertical-align: middle;\n",
       "    }\n",
       "\n",
       "    .dataframe tbody tr th {\n",
       "        vertical-align: top;\n",
       "    }\n",
       "\n",
       "    .dataframe thead th {\n",
       "        text-align: right;\n",
       "    }\n",
       "</style>\n",
       "<table border=\"1\" class=\"dataframe\">\n",
       "  <thead>\n",
       "    <tr style=\"text-align: right;\">\n",
       "      <th></th>\n",
       "      <th>Ano</th>\n",
       "      <th>nome</th>\n",
       "      <th>turno</th>\n",
       "      <th>votos</th>\n",
       "    </tr>\n",
       "  </thead>\n",
       "  <tbody>\n",
       "    <tr>\n",
       "      <th>0</th>\n",
       "      <td>1998</td>\n",
       "      <td>Ivan Moacyr Da Frota</td>\n",
       "      <td>1</td>\n",
       "      <td>251275</td>\n",
       "    </tr>\n",
       "    <tr>\n",
       "      <th>1</th>\n",
       "      <td>1998</td>\n",
       "      <td>Ciro Ferreira Gomes</td>\n",
       "      <td>1</td>\n",
       "      <td>7424780</td>\n",
       "    </tr>\n",
       "    <tr>\n",
       "      <th>2</th>\n",
       "      <td>1998</td>\n",
       "      <td>Ciro Ferreira Gomes</td>\n",
       "      <td>1</td>\n",
       "      <td>7424780</td>\n",
       "    </tr>\n",
       "    <tr>\n",
       "      <th>3</th>\n",
       "      <td>1998</td>\n",
       "      <td>Ciro Ferreira Gomes</td>\n",
       "      <td>1</td>\n",
       "      <td>7424780</td>\n",
       "    </tr>\n",
       "    <tr>\n",
       "      <th>4</th>\n",
       "      <td>1998</td>\n",
       "      <td>Enéas Ferreira Carneiro</td>\n",
       "      <td>1</td>\n",
       "      <td>1446782</td>\n",
       "    </tr>\n",
       "  </tbody>\n",
       "</table>\n",
       "</div>"
      ],
      "text/plain": [
       "    Ano                     nome  turno    votos\n",
       "0  1998     Ivan Moacyr Da Frota      1   251275\n",
       "1  1998      Ciro Ferreira Gomes      1  7424780\n",
       "2  1998      Ciro Ferreira Gomes      1  7424780\n",
       "3  1998      Ciro Ferreira Gomes      1  7424780\n",
       "4  1998  Enéas Ferreira Carneiro      1  1446782"
      ]
     },
     "execution_count": 14,
     "metadata": {},
     "output_type": "execute_result"
    }
   ],
   "source": [
    "df.head(5)"
   ]
  },
  {
   "cell_type": "code",
   "execution_count": null,
   "id": "f401fa34-d3a4-4cd1-973a-2edf24f3e5bd",
   "metadata": {},
   "outputs": [],
   "source": []
  }
 ],
 "metadata": {
  "kernelspec": {
   "display_name": "Python 3 (ipykernel)",
   "language": "python",
   "name": "python3"
  },
  "language_info": {
   "codemirror_mode": {
    "name": "ipython",
    "version": 3
   },
   "file_extension": ".py",
   "mimetype": "text/x-python",
   "name": "python",
   "nbconvert_exporter": "python",
   "pygments_lexer": "ipython3",
   "version": "3.9.7"
  }
 },
 "nbformat": 4,
 "nbformat_minor": 5
}
