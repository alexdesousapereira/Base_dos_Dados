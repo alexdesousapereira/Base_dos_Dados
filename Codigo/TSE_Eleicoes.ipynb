{
 "cells": [
  {
   "cell_type": "markdown",
   "id": "106abb6a-272f-47d1-9fb1-3f44b259f747",
   "metadata": {},
   "source": [
    "<img src=\"Imagens/TSE.jpg\">"
   ]
  },
  {
   "cell_type": "markdown",
   "id": "85badc19-59db-46a4-b2b9-148b391248ef",
   "metadata": {},
   "source": [
    "# Introdução"
   ]
  },
  {
   "cell_type": "markdown",
   "id": "ec431167-79c6-4bbe-bd82-05775f340278",
   "metadata": {},
   "source": [
    "***\n",
    "Neste artigo, irei demostrar os presidentes que tiveram maior número de votos durante os anos, utilizando dados disponíveis da [Base dos Dados](https://basedosdados.org/) em python.\n",
    "\n",
    "Os dados Utilizados correspondem a dados do Tribunal Eleitoral das eleições de 1998 a 2020. \n",
    "A partir deste artigo, espera-se que você conheça quais presidentes ganharam e quase ganharam as eleições perante os anos eleitorais."
   ]
  },
  {
   "cell_type": "markdown",
   "id": "aa9e325d-0cd7-403b-a9d0-49280667065d",
   "metadata": {},
   "source": [
    "## Importando Pacotes\n",
    "***\n",
    "O primeiro passo, será a importação dos pacotes utilizados para que possamos fazer as nossas análises. Desta forma, instalaremos os pacotes que não padrões do jupyter notebook."
   ]
  },
  {
   "cell_type": "code",
   "execution_count": 4,
   "id": "5742bb1f-6353-4b44-a2ba-d3cea2be6cda",
   "metadata": {},
   "outputs": [
    {
     "name": "stdout",
     "output_type": "stream",
     "text": [
      "Requirement already satisfied: basedosdados in c:\\users\\alexd\\anaconda3\\lib\\site-packages (1.6.1)\n",
      "Requirement already satisfied: Jinja2==2.11.2 in c:\\users\\alexd\\anaconda3\\lib\\site-packages (from basedosdados) (2.11.2)\n",
      "Requirement already satisfied: google-cloud-bigquery-storage==1.1.0 in c:\\users\\alexd\\anaconda3\\lib\\site-packages (from basedosdados) (1.1.0)\n",
      "Requirement already satisfied: pyarrow==6.0.0 in c:\\users\\alexd\\anaconda3\\lib\\site-packages (from basedosdados) (6.0.0)\n",
      "Requirement already satisfied: google-cloud-storage==1.42.3 in c:\\users\\alexd\\anaconda3\\lib\\site-packages (from basedosdados) (1.42.3)\n",
      "Requirement already satisfied: pandas==1.2.4 in c:\\users\\alexd\\anaconda3\\lib\\site-packages (from basedosdados) (1.2.4)\n",
      "Requirement already satisfied: ruamel.yaml==0.17.10 in c:\\users\\alexd\\anaconda3\\lib\\site-packages (from basedosdados) (0.17.10)\n",
      "Requirement already satisfied: click==8.0.3 in c:\\users\\alexd\\anaconda3\\lib\\site-packages (from basedosdados) (8.0.3)\n",
      "Requirement already satisfied: tomlkit==0.7.0 in c:\\users\\alexd\\anaconda3\\lib\\site-packages (from basedosdados) (0.7.0)\n",
      "Requirement already satisfied: ckanapi==4.6 in c:\\users\\alexd\\anaconda3\\lib\\site-packages (from basedosdados) (4.6)\n",
      "Requirement already satisfied: google-cloud-bigquery==2.30.1 in c:\\users\\alexd\\anaconda3\\lib\\site-packages (from basedosdados) (2.30.1)\n",
      "Requirement already satisfied: tqdm==4.50.2 in c:\\users\\alexd\\anaconda3\\lib\\site-packages (from basedosdados) (4.50.2)\n",
      "Requirement already satisfied: pandas-gbq==0.13.2 in c:\\users\\alexd\\anaconda3\\lib\\site-packages (from basedosdados) (0.13.2)\n",
      "Requirement already satisfied: pyaml==20.4.0 in c:\\users\\alexd\\anaconda3\\lib\\site-packages (from basedosdados) (20.4.0)\n",
      "Requirement already satisfied: docopt in c:\\users\\alexd\\anaconda3\\lib\\site-packages (from ckanapi==4.6->basedosdados) (0.6.2)\n",
      "Requirement already satisfied: python-slugify>=1.0 in c:\\users\\alexd\\anaconda3\\lib\\site-packages (from ckanapi==4.6->basedosdados) (5.0.2)\n",
      "Requirement already satisfied: six<2.0,>=1.9 in c:\\users\\alexd\\anaconda3\\lib\\site-packages (from ckanapi==4.6->basedosdados) (1.16.0)\n",
      "Requirement already satisfied: setuptools in c:\\users\\alexd\\anaconda3\\lib\\site-packages (from ckanapi==4.6->basedosdados) (58.0.4)\n",
      "Requirement already satisfied: requests in c:\\users\\alexd\\anaconda3\\lib\\site-packages (from ckanapi==4.6->basedosdados) (2.26.0)\n",
      "Requirement already satisfied: colorama in c:\\users\\alexd\\anaconda3\\lib\\site-packages (from click==8.0.3->basedosdados) (0.4.4)\n",
      "Requirement already satisfied: protobuf>=3.12.0 in c:\\users\\alexd\\anaconda3\\lib\\site-packages (from google-cloud-bigquery==2.30.1->basedosdados) (3.19.4)\n",
      "Requirement already satisfied: google-api-core[grpc]<3.0.0dev,>=1.29.0 in c:\\users\\alexd\\anaconda3\\lib\\site-packages (from google-cloud-bigquery==2.30.1->basedosdados) (1.31.5)\n",
      "Requirement already satisfied: grpcio<2.0dev,>=1.38.1 in c:\\users\\alexd\\anaconda3\\lib\\site-packages (from google-cloud-bigquery==2.30.1->basedosdados) (1.44.0)\n",
      "Requirement already satisfied: google-resumable-media<3.0dev,>=0.6.0 in c:\\users\\alexd\\anaconda3\\lib\\site-packages (from google-cloud-bigquery==2.30.1->basedosdados) (2.2.1)\n",
      "Requirement already satisfied: proto-plus>=1.10.0 in c:\\users\\alexd\\anaconda3\\lib\\site-packages (from google-cloud-bigquery==2.30.1->basedosdados) (1.20.3)\n",
      "Requirement already satisfied: packaging>=14.3 in c:\\users\\alexd\\anaconda3\\lib\\site-packages (from google-cloud-bigquery==2.30.1->basedosdados) (21.0)\n",
      "Requirement already satisfied: python-dateutil<3.0dev,>=2.7.2 in c:\\users\\alexd\\anaconda3\\lib\\site-packages (from google-cloud-bigquery==2.30.1->basedosdados) (2.8.2)\n",
      "Requirement already satisfied: google-cloud-core<3.0.0dev,>=1.4.1 in c:\\users\\alexd\\anaconda3\\lib\\site-packages (from google-cloud-bigquery==2.30.1->basedosdados) (2.2.2)\n",
      "Requirement already satisfied: google-auth<3.0dev,>=1.25.0 in c:\\users\\alexd\\anaconda3\\lib\\site-packages (from google-cloud-storage==1.42.3->basedosdados) (1.35.0)\n",
      "Requirement already satisfied: MarkupSafe>=0.23 in c:\\users\\alexd\\anaconda3\\lib\\site-packages (from Jinja2==2.11.2->basedosdados) (1.1.1)\n",
      "Requirement already satisfied: pytz>=2017.3 in c:\\users\\alexd\\anaconda3\\lib\\site-packages (from pandas==1.2.4->basedosdados) (2021.3)\n",
      "Requirement already satisfied: numpy>=1.16.5 in c:\\users\\alexd\\anaconda3\\lib\\site-packages (from pandas==1.2.4->basedosdados) (1.20.3)\n",
      "Requirement already satisfied: pydata-google-auth in c:\\users\\alexd\\anaconda3\\lib\\site-packages (from pandas-gbq==0.13.2->basedosdados) (1.3.0)\n",
      "Requirement already satisfied: google-auth-oauthlib in c:\\users\\alexd\\anaconda3\\lib\\site-packages (from pandas-gbq==0.13.2->basedosdados) (0.4.6)\n",
      "Requirement already satisfied: PyYAML in c:\\users\\alexd\\anaconda3\\lib\\site-packages (from pyaml==20.4.0->basedosdados) (6.0)\n",
      "Requirement already satisfied: ruamel.yaml.clib>=0.1.2 in c:\\users\\alexd\\anaconda3\\lib\\site-packages (from ruamel.yaml==0.17.10->basedosdados) (0.2.6)\n",
      "Requirement already satisfied: googleapis-common-protos<2.0dev,>=1.6.0 in c:\\users\\alexd\\anaconda3\\lib\\site-packages (from google-api-core[grpc]<3.0.0dev,>=1.29.0->google-cloud-bigquery==2.30.1->basedosdados) (1.54.0)\n",
      "Requirement already satisfied: cachetools<5.0,>=2.0.0 in c:\\users\\alexd\\anaconda3\\lib\\site-packages (from google-auth<3.0dev,>=1.25.0->google-cloud-storage==1.42.3->basedosdados) (4.2.4)\n",
      "Requirement already satisfied: pyasn1-modules>=0.2.1 in c:\\users\\alexd\\anaconda3\\lib\\site-packages (from google-auth<3.0dev,>=1.25.0->google-cloud-storage==1.42.3->basedosdados) (0.2.8)\n",
      "Requirement already satisfied: rsa<5,>=3.1.4 in c:\\users\\alexd\\anaconda3\\lib\\site-packages (from google-auth<3.0dev,>=1.25.0->google-cloud-storage==1.42.3->basedosdados) (4.8)\n",
      "Requirement already satisfied: google-crc32c<2.0dev,>=1.0 in c:\\users\\alexd\\anaconda3\\lib\\site-packages (from google-resumable-media<3.0dev,>=0.6.0->google-cloud-bigquery==2.30.1->basedosdados) (1.3.0)\n",
      "Requirement already satisfied: pyparsing>=2.0.2 in c:\\users\\alexd\\anaconda3\\lib\\site-packages (from packaging>=14.3->google-cloud-bigquery==2.30.1->basedosdados) (3.0.4)\n",
      "Requirement already satisfied: pyasn1<0.5.0,>=0.4.6 in c:\\users\\alexd\\anaconda3\\lib\\site-packages (from pyasn1-modules>=0.2.1->google-auth<3.0dev,>=1.25.0->google-cloud-storage==1.42.3->basedosdados) (0.4.8)\n",
      "Requirement already satisfied: text-unidecode>=1.3 in c:\\users\\alexd\\anaconda3\\lib\\site-packages (from python-slugify>=1.0->ckanapi==4.6->basedosdados) (1.3)\n",
      "Requirement already satisfied: idna<4,>=2.5 in c:\\users\\alexd\\anaconda3\\lib\\site-packages (from requests->ckanapi==4.6->basedosdados) (3.2)\n",
      "Requirement already satisfied: urllib3<1.27,>=1.21.1 in c:\\users\\alexd\\anaconda3\\lib\\site-packages (from requests->ckanapi==4.6->basedosdados) (1.26.7)\n",
      "Requirement already satisfied: charset-normalizer~=2.0.0 in c:\\users\\alexd\\anaconda3\\lib\\site-packages (from requests->ckanapi==4.6->basedosdados) (2.0.4)\n",
      "Requirement already satisfied: certifi>=2017.4.17 in c:\\users\\alexd\\anaconda3\\lib\\site-packages (from requests->ckanapi==4.6->basedosdados) (2021.10.8)\n",
      "Requirement already satisfied: requests-oauthlib>=0.7.0 in c:\\users\\alexd\\anaconda3\\lib\\site-packages (from google-auth-oauthlib->pandas-gbq==0.13.2->basedosdados) (1.3.1)\n",
      "Requirement already satisfied: oauthlib>=3.0.0 in c:\\users\\alexd\\anaconda3\\lib\\site-packages (from requests-oauthlib>=0.7.0->google-auth-oauthlib->pandas-gbq==0.13.2->basedosdados) (3.2.0)\n"
     ]
    }
   ],
   "source": [
    "# instalando pacote da base dos dados\n",
    "!pip install basedosdados "
   ]
  },
  {
   "cell_type": "code",
   "execution_count": null,
   "id": "84043c69-008d-4808-a020-f2f69cccaf2d",
   "metadata": {},
   "outputs": [],
   "source": [
    "# Importando Pacotes\n",
    "import basedosdados as bd # importa dados da base dos dados\n",
    "import pandas as pd # manipulação de dados\n",
    "import seaborn as sns # criação de gráficos\n",
    "import matplotlib as plt # criações de gráficos"
   ]
  }
 ],
 "metadata": {
  "kernelspec": {
   "display_name": "Python 3 (ipykernel)",
   "language": "python",
   "name": "python3"
  },
  "language_info": {
   "codemirror_mode": {
    "name": "ipython",
    "version": 3
   },
   "file_extension": ".py",
   "mimetype": "text/x-python",
   "name": "python",
   "nbconvert_exporter": "python",
   "pygments_lexer": "ipython3",
   "version": "3.9.7"
  }
 },
 "nbformat": 4,
 "nbformat_minor": 5
}
